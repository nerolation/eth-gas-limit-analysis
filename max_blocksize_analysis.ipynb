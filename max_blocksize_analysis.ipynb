{
 "cells": [
  {
   "cell_type": "code",
   "execution_count": 1,
   "id": "f3646c59",
   "metadata": {},
   "outputs": [
    {
     "name": "stdout",
     "output_type": "stream",
     "text": [
      "Connected\n"
     ]
    }
   ],
   "source": [
    "from web3 import Web3\n",
    "import os\n",
    "import snappy\n",
    "\n",
    "EXECUTION = True\n",
    "\n",
    "if EXECUTION:\n",
    "    provider_url = 'https://rpc.sepolia.org'  # Sepolia testnet RPC URL\n",
    "    #provider_url = 'http://localhost:8545'    # Localhost URL\n",
    "    w3 = Web3(Web3.HTTPProvider(provider_url))\n",
    "    if not w3.is_connected():\n",
    "        raise Exception(\"Failed to connect to Ethereum network\")\n",
    "    print(\"Connected\")"
   ]
  },
  {
   "cell_type": "markdown",
   "id": "27eab951",
   "metadata": {},
   "source": [
    "### Estimation"
   ]
  },
  {
   "cell_type": "code",
   "execution_count": 2,
   "id": "2be88210",
   "metadata": {},
   "outputs": [],
   "source": [
    "# Given constraints\n",
    "block_gas_limit = 30_000_000    # Block gas limit\n",
    "gas_cost_per_byte = 16          # Gas cost per byte of calldata\n",
    "gas_cost_per_zero_byte = 4     # Gas cost per zero byte of calldata\n",
    "transaction_base_cost = 21_000  # Base transaction cost\n",
    "max_transaction_size = 131_072  # Maximum transaction size in bytes (128 KB)\n",
    "\n",
    "# Gas\n",
    "max_fee_per_gas = w3.to_wei(80, 'gwei')\n",
    "max_priority_fee_per_gas = w3.to_wei(75, 'gwei')\n",
    "\n",
    "# Estimated sizes for various fields (in bytes)\n",
    "mandatory_fields = {\n",
    "    'chain_id': 4, 'nonce': 8, 'max_priority_fee_per_gas': 32, 'max_fee_per_gas': 32,\n",
    "    'gas_limit': 8, 'to_address': 20, 'value': 32, 'signature': 65\n",
    "}\n",
    "# This is simplified and could be even more optimized for larger blocks\n",
    "mandatory_fields_size = sum(mandatory_fields.values())"
   ]
  },
  {
   "cell_type": "code",
   "execution_count": 3,
   "id": "9eeab3d6",
   "metadata": {},
   "outputs": [
    {
     "name": "stdout",
     "output_type": "stream",
     "text": [
      "Transaction can have 130,871 bytes of calldata\n",
      "This equals to 0.125 MB of calldata\n"
     ]
    }
   ],
   "source": [
    "max_calldata_size = max_transaction_size - mandatory_fields_size\n",
    "print(f\"Transaction can have {max_calldata_size:,} bytes of calldata\")\n",
    "print(f\"This equals to {max_calldata_size/1024**2:.3f} MB of calldata\")"
   ]
  },
  {
   "cell_type": "code",
   "execution_count": 4,
   "id": "48322d6b",
   "metadata": {},
   "outputs": [
    {
     "name": "stdout",
     "output_type": "stream",
     "text": [
      "Calldata (zero-byte) requires 523,484 gas\n",
      "Calldata requires 2,093,936 gas\n"
     ]
    }
   ],
   "source": [
    "# Gas used for the calldata of a maximum-sized transaction\n",
    "gas_for_calldata_zero_bytes = max_calldata_size * gas_cost_per_zero_byte\n",
    "gas_for_calldata = max_calldata_size * gas_cost_per_byte\n",
    "\n",
    "print(f\"Calldata (zero-byte) requires {gas_for_calldata_zero_bytes:,} gas\")\n",
    "print(f\"Calldata requires {gas_for_calldata:,} gas\")"
   ]
  },
  {
   "cell_type": "code",
   "execution_count": 5,
   "id": "7ee89d24",
   "metadata": {},
   "outputs": [
    {
     "name": "stdout",
     "output_type": "stream",
     "text": [
      "Transaction (zero-byte) requires 544,484 gas\n",
      "Transaction requires 2,114,936 gas\n"
     ]
    }
   ],
   "source": [
    "total_gas_per_transaction_zero_bytes = transaction_base_cost + gas_for_calldata_zero_bytes\n",
    "total_gas_per_transaction = transaction_base_cost + gas_for_calldata\n",
    "print(f\"Transaction (zero-byte) requires {total_gas_per_transaction_zero_bytes:,} gas\")\n",
    "print(f\"Transaction requires {total_gas_per_transaction:,} gas\")"
   ]
  },
  {
   "cell_type": "code",
   "execution_count": 6,
   "id": "ebcc30a8",
   "metadata": {},
   "outputs": [
    {
     "name": "stdout",
     "output_type": "stream",
     "text": [
      "55 transactions fit in one block (zero-byte calldata)\n",
      "14 transactions fit in one block\n"
     ]
    }
   ],
   "source": [
    "transactions_per_block_zero_bytes = block_gas_limit//total_gas_per_transaction_zero_bytes\n",
    "transactions_per_block = block_gas_limit//total_gas_per_transaction\n",
    "print(f\"{transactions_per_block_zero_bytes} transactions fit in one block (zero-byte calldata)\")\n",
    "print(f\"{transactions_per_block} transactions fit in one block\")"
   ]
  },
  {
   "cell_type": "code",
   "execution_count": 7,
   "id": "4e6c78b1",
   "metadata": {},
   "outputs": [
    {
     "name": "stdout",
     "output_type": "stream",
     "text": [
      "Remaining space in block with zero-byte calldata: 8095.0 bytes\n",
      "Remaining space in block with zero-byte calldata: 23118.5 bytes\n"
     ]
    }
   ],
   "source": [
    "remaining_space_gas_zero_bytes = block_gas_limit%total_gas_per_transaction_zero_bytes\n",
    "remaining_space_gas = block_gas_limit%total_gas_per_transaction\n",
    "remainder_tx_size_zero_bytes = (remaining_space_gas_zero_bytes-21000)/gas_cost_per_zero_byte\n",
    "remainder_tx_size = (remaining_space_gas-21000)/gas_cost_per_byte\n",
    "print(f\"Remaining space in block with zero-byte calldata: {remainder_tx_size_zero_bytes} bytes\")\n",
    "print(f\"Remaining space in block with zero-byte calldata: {remainder_tx_size} bytes\")"
   ]
  },
  {
   "cell_type": "code",
   "execution_count": 8,
   "id": "6e36414f",
   "metadata": {},
   "outputs": [
    {
     "name": "stdout",
     "output_type": "stream",
     "text": [
      "Block size: 6.882719993591309 MB\n",
      "Block size: 1.772047519683838 MB\n"
     ]
    }
   ],
   "source": [
    "block_size_zero_bytes = transactions_per_block_zero_bytes * max_transaction_size\n",
    "block_size = transactions_per_block * max_transaction_size\n",
    "print(f\"Block size: {(block_size_zero_bytes+remainder_tx_size_zero_bytes)/1024**2} MB\")\n",
    "print(f\"Block size: {(block_size+remainder_tx_size)/1024**2} MB\")"
   ]
  },
  {
   "cell_type": "code",
   "execution_count": 9,
   "id": "577a7767",
   "metadata": {},
   "outputs": [
    {
     "name": "stdout",
     "output_type": "stream",
     "text": [
      "Costs per tx:    0.169 ETH\n",
      "Costs per block: 2.369 ETH\n"
     ]
    }
   ],
   "source": [
    "cost_one_tx = total_gas_per_transaction * max_fee_per_gas\n",
    "print(f\"Costs per tx:    {float(w3.from_wei(cost_one_tx, 'ether')):.3f} ETH\")\n",
    "print(f\"Costs per block: {float(w3.from_wei(cost_one_tx * transactions_per_block, 'ether')):.3f} ETH\")"
   ]
  },
  {
   "cell_type": "code",
   "execution_count": 10,
   "id": "7ae74a8f",
   "metadata": {},
   "outputs": [
    {
     "name": "stdout",
     "output_type": "stream",
     "text": [
      "Can be snappy compressed from 138966 to 6525\n"
     ]
    }
   ],
   "source": [
    "# Apply snappy compression to zero bytes calldata\n",
    "calldata_zero_bytes = bytes(max_calldata_size)\n",
    "remainder_calldata_zero_bytes = bytes(int(remainder_tx_size_zero_bytes))\n",
    "print(f\"Can be snappy compressed from {len(calldata_zero_bytes+remainder_calldata_zero_bytes)} to {len(snappy.compress(calldata_zero_bytes+remainder_calldata_zero_bytes))}\")"
   ]
  },
  {
   "cell_type": "code",
   "execution_count": 11,
   "id": "c6e9e13c",
   "metadata": {},
   "outputs": [
    {
     "name": "stdout",
     "output_type": "stream",
     "text": [
      "Maximum block size: 0.32 MB\n"
     ]
    }
   ],
   "source": [
    "max_block_size_zero_bytes = len(snappy.compress(calldata_zero_bytes*55+remainder_calldata_zero_bytes))/(1024**2)\n",
    "print(f\"Maximum block size: {max_block_size_zero_bytes:.2f} MB\")"
   ]
  },
  {
   "cell_type": "code",
   "execution_count": 12,
   "id": "80b7b8e3",
   "metadata": {},
   "outputs": [
    {
     "name": "stdout",
     "output_type": "stream",
     "text": [
      "Can be snappy compressed from 153989 to 154001\n"
     ]
    }
   ],
   "source": [
    "# Apply snappy compression to random bytes calldata\n",
    "calldata_bytes = os.urandom(max_calldata_size)\n",
    "remainder_calldata_bytes = os.urandom(int(remainder_tx_size))\n",
    "print(f\"Can be snappy compressed from {len(calldata_bytes+remainder_calldata_bytes)} to {len(snappy.compress(calldata_bytes+remainder_calldata_bytes))}\")"
   ]
  },
  {
   "cell_type": "code",
   "execution_count": 13,
   "id": "845aa216",
   "metadata": {},
   "outputs": [
    {
     "name": "stdout",
     "output_type": "stream",
     "text": [
      "Maximum block size: 1.77 MB\n"
     ]
    }
   ],
   "source": [
    "max_block_size = len(snappy.compress(calldata_bytes*14+remainder_calldata_bytes))/(1024**2)\n",
    "print(f\"Maximum block size: {max_block_size:.2f} MB\")"
   ]
  },
  {
   "cell_type": "markdown",
   "id": "397a3afa",
   "metadata": {},
   "source": [
    "### Execution"
   ]
  },
  {
   "cell_type": "code",
   "execution_count": null,
   "id": "de720f6f",
   "metadata": {},
   "outputs": [],
   "source": [
    "# Load Private Key\n",
    "with open(\"sepolia_pk.txt\", \"r\") as file:\n",
    "    private_key = file.read().strip()\n",
    "\n",
    "# Private Key to Account\n",
    "account = w3.eth.account.from_key(private_key)\n",
    "nonce = w3.eth.get_transaction_count(account.address)\n",
    "to_address = \"0x000000000000000000000000000000000000dEaD\"\n",
    "print(f\"Sending from {account.address} to {to_address}\")\n",
    "print(f\"Balance of {float(w3.from_wei(w3.eth.get_balance(account.address), 'ether')):,.3f} ETH\")\n",
    "print(f\"Current nonce: {nonce}\")"
   ]
  },
  {
   "cell_type": "code",
   "execution_count": null,
   "id": "252258b4",
   "metadata": {},
   "outputs": [],
   "source": [
    "# Nr. of Transaction to prepare\n",
    "NR_OF_TXS = 55\n",
    "\n",
    "# Prepare Calldata\n",
    "calldata = bytes(max_calldata_size) # Calldata filled with zero bytes\n",
    "print(f\"Calldata has {len(calldata):,} bytes\")\n",
    "\n",
    "signed_transactions = []\n",
    "for i in range(NR_OF_TXS):\n",
    "    # Prepare Transaction\n",
    "    transaction = {\n",
    "        'nonce': nonce+i,\n",
    "        'to': to_address,\n",
    "        'value': w3.to_wei(0, 'ether'),\n",
    "        'gas': total_gas_per_transaction,\n",
    "        'maxFeePerGas': max_fee_per_gas,\n",
    "        'maxPriorityFeePerGas': max_priority_fee_per_gas,\n",
    "        'data': calldata,\n",
    "        'chainId': 11155111  # Chain ID for Sepolia Testnet\n",
    "    }\n",
    "    signed_transaction = w3.eth.account.sign_transaction(transaction, private_key)\n",
    "    signed_transactions.append(signed_transaction)\n",
    "print(f\"Prepared {len(signed_transactions)} transactions\")"
   ]
  },
  {
   "cell_type": "code",
   "execution_count": null,
   "id": "7846c849",
   "metadata": {
    "scrolled": true
   },
   "outputs": [],
   "source": [
    "# Broadcast Transaction(s)\n",
    "tx_hashes = []\n",
    "for tx in signed_transactions:\n",
    "    tx_hash = w3.eth.send_raw_transaction(tx.rawTransaction)\n",
    "    tx_hashes.append(tx_hash)\n",
    "    print(tx_hash.hex())"
   ]
  },
  {
   "cell_type": "code",
   "execution_count": null,
   "id": "21abd0ac",
   "metadata": {
    "scrolled": true
   },
   "outputs": [],
   "source": [
    "# Check Transactions\n",
    "for tx_hash in tx_hashes:\n",
    "    print(w3.eth.wait_for_transaction_receipt(tx_hash)[\"blockNumber\"])"
   ]
  },
  {
   "cell_type": "markdown",
   "id": "413edc7d",
   "metadata": {},
   "source": [
    "### Visualization"
   ]
  },
  {
   "cell_type": "code",
   "execution_count": 14,
   "id": "941e7c5d",
   "metadata": {
    "scrolled": true
   },
   "outputs": [
    {
     "name": "stdout",
     "output_type": "stream",
     "text": [
      "55 transactions fit in one block\n",
      "Block size: 6.882719993591309 MB\n",
      "58 transactions fit in one block\n",
      "Block size: 7.345111846923828 MB\n",
      "62 transactions fit in one block\n",
      "Block size: 7.8026885986328125 MB\n",
      "66 transactions fit in one block\n",
      "Block size: 8.260265350341797 MB\n",
      "69 transactions fit in one block\n",
      "Block size: 8.722657203674316 MB\n",
      "73 transactions fit in one block\n",
      "Block size: 9.1802339553833 MB\n",
      "77 transactions fit in one block\n",
      "Block size: 9.637810707092285 MB\n",
      "80 transactions fit in one block\n",
      "Block size: 10.100202560424805 MB\n",
      "14 transactions fit in one block\n",
      "Block size: 1.772047519683838 MB\n",
      "15 transactions fit in one block\n",
      "Block size: 1.8901968002319336 MB\n",
      "16 transactions fit in one block\n",
      "Block size: 2.0083460807800293 MB\n",
      "17 transactions fit in one block\n",
      "Block size: 2.126495361328125 MB\n",
      "17 transactions fit in one block\n",
      "Block size: 2.2457046508789062 MB\n",
      "18 transactions fit in one block\n",
      "Block size: 2.363853931427002 MB\n",
      "19 transactions fit in one block\n",
      "Block size: 2.4820032119750977 MB\n",
      "20 transactions fit in one block\n",
      "Block size: 2.6001524925231934 MB\n"
     ]
    }
   ],
   "source": [
    "import matplotlib.pyplot as plt\n",
    "import matplotlib.ticker as ticker\n",
    "import matplotlib.cm as cm\n",
    "\n",
    "def get_max_block_size_in_mb(block_gas_limit, emptybytes=True):\n",
    "    if emptybytes:\n",
    "        gas_cost = gas_cost_per_zero_byte\n",
    "    else:\n",
    "        gas_cost = gas_cost_per_byte\n",
    "    gas_for_calldata = max_calldata_size * gas_cost  \n",
    "    total_gas_per_transaction = transaction_base_cost + gas_for_calldata\n",
    "    transactions_per_block = block_gas_limit//total_gas_per_transaction\n",
    "    print(f\"{transactions_per_block} transactions fit in one block\")\n",
    "    block_size = transactions_per_block * max_transaction_size\n",
    "    \n",
    "    remaining_gas = block_gas_limit%total_gas_per_transaction\n",
    "    remaining_space_for_calldata = (remaining_gas - transaction_base_cost) / gas_cost\n",
    "\n",
    "    block_size += 1 * remaining_space_for_calldata\n",
    "    print(f\"Block size: {block_size/1024**2} MB\")\n",
    "    return block_size/1024**2\n",
    "\n",
    "\n",
    "gas_limits_empty = [i for i in range(block_gas_limit, block_gas_limit+16_000_000, int(2e6))]\n",
    "block_sizes_empty = [get_max_block_size_in_mb(i) for i in gas_limits_empty]\n",
    "\n",
    "gas_limits = [i for i in range(block_gas_limit, block_gas_limit+16_000_000, int(2e6))]\n",
    "block_sizes = [get_max_block_size_in_mb(i, emptybytes=False) for i in gas_limits]"
   ]
  },
  {
   "cell_type": "code",
   "execution_count": 15,
   "id": "624b4c35",
   "metadata": {},
   "outputs": [
    {
     "data": {
      "image/png": "[encoded data removed]",
      "text/plain": [
       "<Figure size 1200x400 with 1 Axes>"
      ]
     },
     "metadata": {},
     "output_type": "display_data"
    }
   ],
   "source": [
    "def format_func(value, tick_number):\n",
    "    return f'{int(value / 1_000_000)}m'\n",
    "plt.style.use('dark_background')\n",
    "fig, ax = plt.subplots(figsize=(12, 4))\n",
    "x = gas_limits_empty\n",
    "y = block_sizes_empty\n",
    "colors = cm.Blues(0.7)\n",
    "plt.rcParams['font.family'] = 'Ubuntu Mono'\n",
    "ax.fill_between(x, y, color=colors, alpha=0.8)\n",
    "ax.set_xlabel('Block Gas Limit', fontsize=14)\n",
    "ax.set_ylabel('MB', fontsize=14)\n",
    "ax.set_title('Max. Block Size vs Gas Limit', fontsize=16)\n",
    "ax.xaxis.set_major_formatter(ticker.FuncFormatter(format_func))\n",
    "ax.set_ylim(0, 10.99)\n",
    "plt.yticks(fontsize=14)\n",
    "plt.xticks(fontsize=14)\n",
    "plt.tight_layout()\n",
    "ax.grid(color='gray', linestyle='-', linewidth=0.5)\n",
    "ax.legend_ = None\n",
    "plt.savefig(\"impact_block_gas_limit.png\")\n",
    "plt.show()"
   ]
  },
  {
   "cell_type": "code",
   "execution_count": 16,
   "id": "9ff57976",
   "metadata": {},
   "outputs": [
    {
     "data": {
      "image/png": "[encoded data removed]",
      "text/plain": [
       "<Figure size 1200x400 with 1 Axes>"
      ]
     },
     "metadata": {},
     "output_type": "display_data"
    }
   ],
   "source": [
    "def format_func(value, tick_number):\n",
    "    return f'{int(value / 1_000_000)}m'\n",
    "plt.style.use('dark_background')\n",
    "x = gas_limits\n",
    "y = block_sizes\n",
    "colors = cm.Blues(0.7)\n",
    "fig, ax = plt.subplots(figsize=(12, 4))\n",
    "plt.rcParams['font.family'] = 'Ubuntu Mono'\n",
    "ax.fill_between(x, y, color=colors, alpha=0.8)\n",
    "ax.set_xlabel('Block Gas Limit', fontsize=14)\n",
    "ax.set_ylabel('MB', fontsize=14)\n",
    "ax.set_title('Max. Block Size vs Gas Limit', fontsize=16)\n",
    "ax.xaxis.set_major_formatter(ticker.FuncFormatter(format_func))\n",
    "plt.yticks(fontsize=14)\n",
    "plt.xticks(fontsize=14)\n",
    "plt.tight_layout()\n",
    "ax.grid(color='gray', linestyle='-', linewidth=0.5)\n",
    "ax.legend_ = None\n",
    "plt.savefig(\"impact_block_gas_limit.png\")\n",
    "plt.show()"
   ]
  },
  {
   "cell_type": "code",
   "execution_count": 17,
   "id": "e5ff5e56",
   "metadata": {},
   "outputs": [
    {
     "name": "stdout",
     "output_type": "stream",
     "text": [
      "55 transactions fit in one block\n",
      "Block size: 6.882719993591309 MB\n",
      "28 transactions fit in one block\n",
      "Block size: 3.509047508239746 MB\n",
      "14 transactions fit in one block\n",
      "Block size: 1.772047519683838 MB\n",
      "9 transactions fit in one block\n",
      "Block size: 1.1854734420776367 MB\n",
      "7 transactions fit in one block\n",
      "Block size: 0.8904047012329102 MB\n",
      "5 transactions fit in one block\n",
      "Block size: 0.7132101058959961 MB\n",
      "3 transactions fit in one block\n",
      "Block size: 0.44635820388793945 MB\n",
      "1 transactions fit in one block\n",
      "Block size: 0.2233961820602417 MB\n"
     ]
    }
   ],
   "source": [
    "def get_max_block_size_in_mb(gas_cost, emptybytes=True):\n",
    "    \n",
    "    gas_for_calldata = max_calldata_size * gas_cost  \n",
    "    total_gas_per_transaction = transaction_base_cost + gas_for_calldata\n",
    "    transactions_per_block = block_gas_limit//total_gas_per_transaction\n",
    "    print(f\"{transactions_per_block} transactions fit in one block\")\n",
    "    block_size = transactions_per_block * max_transaction_size\n",
    "    \n",
    "    remaining_gas = block_gas_limit%total_gas_per_transaction\n",
    "    remaining_space_for_calldata = (remaining_gas - transaction_base_cost) / gas_cost\n",
    "\n",
    "    block_size += 1 * remaining_space_for_calldata\n",
    "    print(f\"Block size: {block_size/1024**2} MB\")\n",
    "    return block_size/1024**2\n",
    "\n",
    "calldata_costs = [4, 8, 16, 24, 32, 40, 64, 128]\n",
    "block_sizes = [get_max_block_size_in_mb(i, emptybytes=False) for i in calldata_costs]"
   ]
  },
  {
   "cell_type": "code",
   "execution_count": 18,
   "id": "d8730e82",
   "metadata": {},
   "outputs": [
    {
     "data": {
      "image/png": "[encoded data removed]",
      "text/plain": [
       "<Figure size 1200x400 with 1 Axes>"
      ]
     },
     "metadata": {},
     "output_type": "display_data"
    }
   ],
   "source": [
    "plt.style.use('dark_background')\n",
    "x = calldata_costs\n",
    "y = block_sizes\n",
    "colors = cm.Blues(0.7)\n",
    "fig, ax = plt.subplots(figsize=(12, 4))\n",
    "plt.rcParams['font.family'] = 'Ubuntu Mono'\n",
    "ax.fill_between(x, y, color=colors, alpha=0.8)\n",
    "ax.set_xlabel('Calldata costs per non-zero byte', fontsize=14)\n",
    "ax.set_xticks(calldata_costs)\n",
    "ax.set_xticklabels([str(j) + \" gas\" if i % 2 == 0 else \"\\n\" + str(j) + \" gas\" for i, j in enumerate(calldata_costs)]\n",
    "                  , fontsize=14)\n",
    "ax.set_ylabel('MB', fontsize=14)\n",
    "ax.set_title('Max. Block Size vs Gas Limit', fontsize=16)\n",
    "ax.set_ylim(0, 10.99)\n",
    "plt.yticks(fontsize=14)\n",
    "plt.xticks(fontsize=14)\n",
    "plt.tight_layout()\n",
    "ax.grid(color='gray', linestyle='-', linewidth=0.5)\n",
    "ax.legend_ = None\n",
    "plt.savefig(\"impact_calldata_price.png\")\n",
    "plt.show()"
   ]
  },
  {
   "cell_type": "code",
   "execution_count": null,
   "id": "c6d29609",
   "metadata": {},
   "outputs": [],
   "source": []
  }
 ],
 "metadata": {
  "kernelspec": {
   "display_name": "open-eth-pipes",
   "language": "python",
   "name": "open-eth-pipes"
  },
  "language_info": {
   "codemirror_mode": {
    "name": "ipython",
    "version": 3
   },
   "file_extension": ".py",
   "mimetype": "text/x-python",
   "name": "python",
   "nbconvert_exporter": "python",
   "pygments_lexer": "ipython3",
   "version": "3.10.12"
  }
 },
 "nbformat": 4,
 "nbformat_minor": 5
}
